{
 "cells": [
  {
   "cell_type": "code",
   "execution_count": null,
   "metadata": {
    "collapsed": true
   },
   "outputs": [],
   "source": [
    "import pandas as pd\n",
    "\n",
    "import numpy as np\n",
    "\n",
    "import matplotlib\n",
    "import matplotlib.pylab as plt\n",
    "%matplotlib inline\n",
    "\n",
    "import seaborn as sns\n",
    "\n",
    "from __future__ import division"
   ]
  },
  {
   "cell_type": "markdown",
   "metadata": {},
   "source": [
    "## Loading data"
   ]
  },
  {
   "cell_type": "markdown",
   "metadata": {},
   "source": [
    "### Train"
   ]
  },
  {
   "cell_type": "code",
   "execution_count": null,
   "metadata": {
    "collapsed": false
   },
   "outputs": [],
   "source": [
    "train_data_filepath = './data/training.csv'\n",
    "train_data = pd.read_csv(train_data_filepath, index_col='EventId')"
   ]
  },
  {
   "cell_type": "code",
   "execution_count": null,
   "metadata": {
    "collapsed": false
   },
   "outputs": [],
   "source": [
    "train_labels = train_data['Label'].apply(lambda label: 1 if label == 's' else 0)\n",
    "train_weights = train_data['Weight']\n",
    "train_data = train_data.drop(['Label', 'Weight'], axis=1)"
   ]
  },
  {
   "cell_type": "markdown",
   "metadata": {},
   "source": [
    "### Test"
   ]
  },
  {
   "cell_type": "code",
   "execution_count": null,
   "metadata": {
    "collapsed": true
   },
   "outputs": [],
   "source": [
    "test_data_filepath = './data/test.csv'\n",
    "test_data = pd.read_csv(test_data_filepath, index_col='EventId')"
   ]
  },
  {
   "cell_type": "markdown",
   "metadata": {},
   "source": [
    "---"
   ]
  },
  {
   "cell_type": "markdown",
   "metadata": {},
   "source": [
    "## Creating class for Higgs Boson data tranformation\n",
    "\n",
    "It is divided into modules, so that it is easy to carry out experiments with features like adding new ones, transforming etc."
   ]
  },
  {
   "cell_type": "code",
   "execution_count": null,
   "metadata": {
    "collapsed": true
   },
   "outputs": [],
   "source": [
    "from sklearn import preprocessing"
   ]
  },
  {
   "cell_type": "code",
   "execution_count": null,
   "metadata": {
    "collapsed": false
   },
   "outputs": [],
   "source": [
    "class HiggsBosonTransformer:\n",
    "    \"\"\"Class for Higgs Boson data transformations\"\"\"\n",
    "    \n",
    "    def __init__(self, with_missing_values=True, with_scaling=True):\n",
    "        self.with_missing_values = with_missing_values\n",
    "        self.with_scaling = with_scaling\n",
    "        \n",
    "    def _transform_missing_values(self, df):\n",
    "        df.replace(-999.0, np.nan, inplace=True)\n",
    "        \n",
    "        for column in df.columns:\n",
    "            nan_ratio = len(df[df[column].isnull()]) / len(df)\n",
    "            if nan_ratio >= 0.5:\n",
    "                df.drop(column, axis=1, inplace=True)\n",
    "        \n",
    "        df.fillna(df.median(), inplace=True)\n",
    "        \n",
    "        return df\n",
    "                \n",
    "    def _transform_scale(self, df, with_fitting=False):\n",
    "        if with_fitting:\n",
    "            self.scaler = preprocessing.StandardScaler()\n",
    "            self.scaler.fit(df.values)\n",
    "        \n",
    "        scaled_data = self.scaler.transform(df.values)\n",
    "\n",
    "        return pd.DataFrame(scaled_data, columns=df.columns)\n",
    "    \n",
    "    def transform(self, df, with_fitting=False):\n",
    "        new_df = df.copy()\n",
    "        \n",
    "        # Missing values\n",
    "        if self.with_missing_values:\n",
    "            new_df = self._transform_missing_values(new_df)\n",
    "        \n",
    "        # Scaling\n",
    "        if self.with_scaling:\n",
    "            new_df = self._transform_scale(new_df, with_fitting=with_fitting)\n",
    "\n",
    "        return new_df  \n",
    "    \n",
    "    \n",
    "    def fit_transform(self, df):\n",
    "        return self.transform(df, with_fitting=True)"
   ]
  },
  {
   "cell_type": "code",
   "execution_count": null,
   "metadata": {
    "collapsed": true
   },
   "outputs": [],
   "source": []
  },
  {
   "cell_type": "code",
   "execution_count": null,
   "metadata": {
    "collapsed": false
   },
   "outputs": [],
   "source": [
    "higgs_boson_transformer_params = {'with_missing_values': True,\n",
    "                                  'with_scaling': True   \n",
    "                                 }\n",
    "\n",
    "higgs_boson_transformer = HiggsBosonTransformer(**higgs_boson_transformer_params)\n",
    "new_train_data = higgs_boson_transformer.fit_transform(train_data)\n",
    "new_test_data = higgs_boson_transformer.transform(test_data)"
   ]
  },
  {
   "cell_type": "code",
   "execution_count": null,
   "metadata": {
    "collapsed": false
   },
   "outputs": [],
   "source": [
    "new_train_data = higgs_boson_transformer.fit_transform(train_data)"
   ]
  },
  {
   "cell_type": "code",
   "execution_count": null,
   "metadata": {
    "collapsed": false
   },
   "outputs": [],
   "source": [
    "new_test_data = higgs_boson_transformer.transform(test_data)"
   ]
  },
  {
   "cell_type": "markdown",
   "metadata": {},
   "source": [
    "---"
   ]
  },
  {
   "cell_type": "markdown",
   "metadata": {},
   "source": [
    "## Making AMS score function"
   ]
  },
  {
   "cell_type": "code",
   "execution_count": null,
   "metadata": {
    "collapsed": true
   },
   "outputs": [],
   "source": [
    "def ams_score(y, y_pred, weights):\n",
    "    y = np.array(y)\n",
    "    y_pred = np.array(y_pred)\n",
    "    \n",
    "    \n",
    "    s = sum(weights * (y == 1) * (y_pred == 1))\n",
    "    b = sum(weights * (y == 0) * (y_pred == 1))\n",
    "    b_r = 10.0\n",
    "    \n",
    "    return np.sqrt(2 * ((s + b + b_r) * np.log(1 + s / (b + b_r))) - s)"
   ]
  },
  {
   "cell_type": "markdown",
   "metadata": {},
   "source": [
    "---"
   ]
  },
  {
   "cell_type": "markdown",
   "metadata": {},
   "source": [
    "## Logistic regression"
   ]
  },
  {
   "cell_type": "code",
   "execution_count": null,
   "metadata": {
    "collapsed": true
   },
   "outputs": [],
   "source": [
    "from sklearn.linear_model import LogisticRegression"
   ]
  },
  {
   "cell_type": "code",
   "execution_count": null,
   "metadata": {
    "collapsed": true
   },
   "outputs": [],
   "source": [
    "logistic_regression = LogisticRegression(random_state=42, n_jobs=-1, verbose=True)"
   ]
  },
  {
   "cell_type": "code",
   "execution_count": null,
   "metadata": {
    "collapsed": false
   },
   "outputs": [],
   "source": [
    "logistic_regression.fit(new_train_data, train_labels)"
   ]
  },
  {
   "cell_type": "code",
   "execution_count": null,
   "metadata": {
    "collapsed": true
   },
   "outputs": [],
   "source": [
    "preds = logistic_regression.predict(new_train_data)"
   ]
  },
  {
   "cell_type": "code",
   "execution_count": null,
   "metadata": {
    "collapsed": false
   },
   "outputs": [],
   "source": [
    "from sklearn import metrics"
   ]
  },
  {
   "cell_type": "code",
   "execution_count": null,
   "metadata": {
    "collapsed": false
   },
   "outputs": [],
   "source": [
    "metrics.accuracy_score(train_labels.values, preds)"
   ]
  },
  {
   "cell_type": "markdown",
   "metadata": {},
   "source": [
    "### Choosing optimal parameters by grid"
   ]
  },
  {
   "cell_type": "code",
   "execution_count": null,
   "metadata": {
    "collapsed": true
   },
   "outputs": [],
   "source": [
    "from sklearn import cross_validation, grid_search, metrics"
   ]
  },
  {
   "cell_type": "code",
   "execution_count": null,
   "metadata": {
    "collapsed": true
   },
   "outputs": [],
   "source": [
    "logistic_regression_grid_params = {'C': [10 ** x for x in xrange(-1, 1 + 1)],\n",
    "                                   'penalty': ['l2'],\n",
    "                                   'class_weight': [None, 'balanced'] # Will help with class inequality\n",
    "                                  }"
   ]
  },
  {
   "cell_type": "code",
   "execution_count": null,
   "metadata": {
    "collapsed": false
   },
   "outputs": [],
   "source": [
    "cv = cross_validation.StratifiedKFold(train_labels, n_folds=5, shuffle=True, random_state=42)"
   ]
  },
  {
   "cell_type": "code",
   "execution_count": null,
   "metadata": {
    "collapsed": false
   },
   "outputs": [],
   "source": [
    "grid_cv = grid_search.GridSearchCV(logistic_regression, {'C': [0.1, 10], 'penalty': ['l1']},\n",
    "                                   scoring='accuracy', cv=cv,\n",
    "                                   verbose=True, n_jobs=-1)"
   ]
  },
  {
   "cell_type": "code",
   "execution_count": null,
   "metadata": {
    "collapsed": false
   },
   "outputs": [],
   "source": [
    "%%time\n",
    "grid_cv.fit(new_train_data, train_labels)"
   ]
  },
  {
   "cell_type": "code",
   "execution_count": null,
   "metadata": {
    "collapsed": false
   },
   "outputs": [],
   "source": [
    "grid_cv.grid_scores_"
   ]
  },
  {
   "cell_type": "code",
   "execution_count": null,
   "metadata": {
    "collapsed": false
   },
   "outputs": [],
   "source": [
    "print grid_cv.best_score_\n",
    "print grid_cv.best_params_"
   ]
  },
  {
   "cell_type": "code",
   "execution_count": null,
   "metadata": {
    "collapsed": false
   },
   "outputs": [],
   "source": [
    "grid_cv.grid_scores_"
   ]
  },
  {
   "cell_type": "code",
   "execution_count": null,
   "metadata": {
    "collapsed": false
   },
   "outputs": [],
   "source": [
    "param_grid = grid_search.ParameterGrid(logistic_regression_grid_params)"
   ]
  },
  {
   "cell_type": "code",
   "execution_count": null,
   "metadata": {
    "collapsed": false
   },
   "outputs": [],
   "source": [
    "logistic_regression.get_params"
   ]
  },
  {
   "cell_type": "code",
   "execution_count": null,
   "metadata": {
    "collapsed": false
   },
   "outputs": [],
   "source": [
    "def higgs_boson_grid_search(X, y, estimator, param_grid, kf):\n",
    "    result_dict = {'grid_scores': [],\n",
    "                  }\n",
    "    for params in grid_search.ParameterGrid(param_grid):\n",
    "        cv_scores = []\n",
    "        for train_index, test_index in kf:\n",
    "            X_train, y_train = X.iloc[train_index], y.iloc[train_index]\n",
    "            X_test, y_test = X.iloc[test_index], y.iloc[test_index]\n",
    "            \n",
    "            higgs_boson_transformer = HiggsBosonTransformer()\n",
    "            X_train_transformed = higgs_boson_transformer.fit_transform(X_train)\n",
    "            X_test_transformed = higgs_boson_transformer.transform(X_test)\n",
    "        \n",
    "            estimator.set_params(**params)\n",
    "            estimator.fit(X_train_transformed, y_train, )\n",
    "            preds = estimator.predict(X_test_transformed)\n",
    "            \n",
    "            score = ams_score(y_test, preds, train_weights.iloc[test_index])\n",
    "            cv_scores.append(score)\n",
    "            \n",
    "        result_dict['grid_scores'].append({'mean': np.mean(cv_scores), 'std': np.std(cv_scores), 'params': params})\n",
    "    \n",
    "    result_dict['best_score'] = max(result_dict['grid_scores'], key=lambda x: x['mean'])['mean']\n",
    "    result_dict['best_params'] = max(result_dict['grid_scores'], key=lambda x: x['mean'])['params']\n",
    "    \n",
    "    return result_dict"
   ]
  },
  {
   "cell_type": "code",
   "execution_count": null,
   "metadata": {
    "collapsed": false
   },
   "outputs": [],
   "source": [
    "result = higgs_boson_grid_search(train_data, train_labels, \n",
    "                                 logistic_regression,\n",
    "                                 {'C': [0.1, 10], 'penalty': ['l1']}, cv)"
   ]
  },
  {
   "cell_type": "code",
   "execution_count": null,
   "metadata": {
    "collapsed": false
   },
   "outputs": [],
   "source": [
    "result"
   ]
  },
  {
   "cell_type": "code",
   "execution_count": null,
   "metadata": {
    "collapsed": true
   },
   "outputs": [],
   "source": []
  }
 ],
 "metadata": {
  "kernelspec": {
   "display_name": "Python 2",
   "language": "python",
   "name": "python2"
  },
  "language_info": {
   "codemirror_mode": {
    "name": "ipython",
    "version": 2
   },
   "file_extension": ".py",
   "mimetype": "text/x-python",
   "name": "python",
   "nbconvert_exporter": "python",
   "pygments_lexer": "ipython2",
   "version": "2.7.11"
  }
 },
 "nbformat": 4,
 "nbformat_minor": 0
}
