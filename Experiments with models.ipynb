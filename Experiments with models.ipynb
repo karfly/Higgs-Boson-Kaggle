{
 "cells": [
  {
   "cell_type": "code",
   "execution_count": 164,
   "metadata": {
    "collapsed": true
   },
   "outputs": [],
   "source": [
    "import pandas as pd\n",
    "\n",
    "import numpy as np\n",
    "\n",
    "import matplotlib\n",
    "import matplotlib.pylab as plt\n",
    "%matplotlib inline\n",
    "\n",
    "import seaborn as sns\n",
    "\n",
    "from __future__ import division"
   ]
  },
  {
   "cell_type": "markdown",
   "metadata": {},
   "source": [
    "## Loading data"
   ]
  },
  {
   "cell_type": "markdown",
   "metadata": {},
   "source": [
    "### Train"
   ]
  },
  {
   "cell_type": "code",
   "execution_count": 181,
   "metadata": {
    "collapsed": false
   },
   "outputs": [],
   "source": [
    "train_data_filepath = './data/training.csv'\n",
    "train_data = pd.read_csv(train_data_filepath, index_col='EventId')"
   ]
  },
  {
   "cell_type": "code",
   "execution_count": 182,
   "metadata": {
    "collapsed": false
   },
   "outputs": [],
   "source": [
    "train_labels = train_data['Label']\n",
    "weights = train_data['Label']\n",
    "train_data = train_data.drop(['Label', 'Weight'], axis=1)"
   ]
  },
  {
   "cell_type": "markdown",
   "metadata": {},
   "source": [
    "### Test"
   ]
  },
  {
   "cell_type": "code",
   "execution_count": 167,
   "metadata": {
    "collapsed": true
   },
   "outputs": [],
   "source": [
    "test_data_filepath = './data/test.csv'\n",
    "test_data = pd.read_csv(test_data_filepath, index_col='EventId')"
   ]
  },
  {
   "cell_type": "markdown",
   "metadata": {},
   "source": [
    "---"
   ]
  },
  {
   "cell_type": "markdown",
   "metadata": {},
   "source": [
    "## Creating class for Higgs Boson data tranformation\n",
    "\n",
    "It is divided into modules, so that it is easy to carry out experiments with features like adding new ones, transforming etc."
   ]
  },
  {
   "cell_type": "code",
   "execution_count": 168,
   "metadata": {
    "collapsed": true
   },
   "outputs": [],
   "source": [
    "from sklearn import preprocessing"
   ]
  },
  {
   "cell_type": "code",
   "execution_count": 227,
   "metadata": {
    "collapsed": false
   },
   "outputs": [],
   "source": [
    "class HiggsBosonTransformer:\n",
    "    \"\"\"Class for Higgs Boson data transformations\"\"\"\n",
    "    \n",
    "    def __init__(self, with_missing_values=True, with_scaling=True):\n",
    "        self.with_missing_values = with_missing_values\n",
    "        self.with_scaling = with_scaling\n",
    "        \n",
    "    def transform_missing_values(self, df):\n",
    "        df.replace(-999.0, np.nan, inplace=True)\n",
    "        \n",
    "        for column in df.columns:\n",
    "            nan_ratio = len(df[df[column].isnull()]) / len(df)\n",
    "            if nan_ratio >= 0.5:\n",
    "                df.drop(column, axis=1, inplace=True)\n",
    "        \n",
    "        df.fillna(df.median(), inplace=True)\n",
    "        \n",
    "        return df\n",
    "                \n",
    "    def transform_scale(self, df, with_fitting=False):\n",
    "        if with_fitting:\n",
    "            self.scaler = preprocessing.StandardScaler()\n",
    "            self.scaler.fit(df.values)\n",
    "        \n",
    "        scaled_data = self.scaler.transform(df.values)\n",
    "\n",
    "        return pd.DataFrame(scaled_data, columns=df.columns)\n",
    "    \n",
    "    def transform(self, df, with_fitting=False):\n",
    "        new_df = df.copy()\n",
    "        \n",
    "        # Missing values\n",
    "        if self.with_missing_values:\n",
    "            new_df = self.transform_missing_values(new_df)\n",
    "        \n",
    "        # Scaling\n",
    "        if self.with_scaling:\n",
    "            new_df = self.transform_scale(new_df, with_fitting=with_fitting)\n",
    "\n",
    "        return new_df  \n",
    "    \n",
    "    \n",
    "    def fit_transform(self, df):\n",
    "        return self.transform(df, with_fitting=True)"
   ]
  },
  {
   "cell_type": "code",
   "execution_count": 238,
   "metadata": {
    "collapsed": false
   },
   "outputs": [],
   "source": [
    "higgs_boson_transformer_params = {'with_missing_values': True,\n",
    "                                  'with_scaling': True   \n",
    "                                 }\n",
    "\n",
    "higgs_boson_transformer = HiggsBosonTransformer(**higgs_boson_transformer_params)"
   ]
  },
  {
   "cell_type": "code",
   "execution_count": 239,
   "metadata": {
    "collapsed": false
   },
   "outputs": [],
   "source": [
    "new_train_data = higgs_boson_transformer.fit_transform(train_data)"
   ]
  },
  {
   "cell_type": "code",
   "execution_count": 240,
   "metadata": {
    "collapsed": false
   },
   "outputs": [],
   "source": [
    "new_test_data = higgs_boson_transformer.transform(test_data)"
   ]
  }
 ],
 "metadata": {
  "kernelspec": {
   "display_name": "Python 2",
   "language": "python",
   "name": "python2"
  },
  "language_info": {
   "codemirror_mode": {
    "name": "ipython",
    "version": 2
   },
   "file_extension": ".py",
   "mimetype": "text/x-python",
   "name": "python",
   "nbconvert_exporter": "python",
   "pygments_lexer": "ipython2",
   "version": "2.7.11"
  }
 },
 "nbformat": 4,
 "nbformat_minor": 0
}
